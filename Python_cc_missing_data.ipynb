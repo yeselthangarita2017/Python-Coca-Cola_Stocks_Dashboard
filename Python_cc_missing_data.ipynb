{
  "nbformat": 4,
  "nbformat_minor": 0,
  "metadata": {
    "colab": {
      "provenance": [],
      "toc_visible": true
    },
    "kernelspec": {
      "name": "python3",
      "display_name": "Python 3"
    },
    "language_info": {
      "name": "python"
    }
  },
  "cells": [
    {
      "cell_type": "markdown",
      "source": [
        "# Libraries \n"
      ],
      "metadata": {
        "id": "nL352v415Eyy"
      }
    },
    {
      "cell_type": "code",
      "execution_count": null,
      "metadata": {
        "id": "1fep-0MO46wY"
      },
      "outputs": [],
      "source": [
        "import numpy as np \n",
        "import pandas as pd "
      ]
    },
    {
      "cell_type": "markdown",
      "source": [
        "#Loading \n"
      ],
      "metadata": {
        "id": "jfR1iqXB5AQQ"
      }
    },
    {
      "cell_type": "markdown",
      "source": [
        "Now, we will mount the drive and load the data.\n"
      ],
      "metadata": {
        "id": "zjo0MXEP5Z6-"
      }
    },
    {
      "cell_type": "code",
      "source": [
        "from google.colab import drive\n",
        "drive.mount('/content/gdrive')"
      ],
      "metadata": {
        "colab": {
          "base_uri": "https://localhost:8080/"
        },
        "id": "crTZdA_i5ZH7",
        "outputId": "e06c9a46-c979-4fac-8208-7b31b55166b6"
      },
      "execution_count": null,
      "outputs": [
        {
          "output_type": "stream",
          "name": "stdout",
          "text": [
            "Mounted at /content/gdrive\n"
          ]
        }
      ]
    },
    {
      "cell_type": "code",
      "source": [
        "# #Load data\n",
        "cc = pd.read_csv('/content/gdrive/MyDrive/Dashboards/dataset_cc_all_test-2.csv')\n",
        "print(cc)"
      ],
      "metadata": {
        "colab": {
          "base_uri": "https://localhost:8080/"
        },
        "id": "Jio-GsMG6Voq",
        "outputId": "f4f5a8b1-a618-4ca6-eda1-87b060e1c72d"
      },
      "execution_count": null,
      "outputs": [
        {
          "output_type": "stream",
          "name": "stdout",
          "text": [
            "            Date       Open       High        Low      Close    Volume  \\\n",
            "0      26-Oct-22  59.009998  59.779999  58.860001  59.389999  15831400   \n",
            "1      25-Oct-22  59.040001  59.110001  57.750000  58.950001  28829900   \n",
            "2      24-Oct-22  56.639999  57.730000  56.570000  57.570000  17416700   \n",
            "3      21-Oct-22  55.000000  56.110001  54.990002  55.959999  15028000   \n",
            "4      20-Oct-22  55.770000  55.919998  54.959999  55.080002  16905100   \n",
            "...          ...        ...        ...        ...        ...       ...   \n",
            "15306   8-Jan-62   0.047787   0.047787   0.046735   0.047664   2035200   \n",
            "15307   5-Jan-62   0.049273   0.049892   0.048035   0.048159   1420800   \n",
            "15308   4-Jan-62   0.049026   0.049645   0.049026   0.049273    844800   \n",
            "15309   3-Jan-62   0.049273   0.049273   0.048159   0.048902   1574400   \n",
            "15310   2-Jan-62   0.050016   0.051378   0.050016   0.050016    806400   \n",
            "\n",
            "       Dividends  Stock Splits Unnamed: 8  \n",
            "0            0.0             0      False  \n",
            "1            0.0             0        NaN  \n",
            "2            0.0             0        NaN  \n",
            "3            0.0             0        NaN  \n",
            "4            0.0             0        NaN  \n",
            "...          ...           ...        ...  \n",
            "15306        0.0             0        NaN  \n",
            "15307        0.0             0        NaN  \n",
            "15308        0.0             0        NaN  \n",
            "15309        0.0             0        NaN  \n",
            "15310        0.0             0        NaN  \n",
            "\n",
            "[15311 rows x 9 columns]\n"
          ]
        }
      ]
    },
    {
      "cell_type": "markdown",
      "source": [
        "What are the non-continuous days reading by month and by year? "
      ],
      "metadata": {
        "id": "fqF_Yr3M7ix7"
      }
    },
    {
      "cell_type": "markdown",
      "source": [
        "First, we need the parsed dataset - I used Dataiku DSS here because of personal preference."
      ],
      "metadata": {
        "id": "I_kBX_Nu9g5h"
      }
    },
    {
      "cell_type": "code",
      "source": [
        "#Load the prepared (parsed) data from Dataiku DSS\n",
        "cc_prepared = pd.read_csv('/content/gdrive/MyDrive/Dashboards/dataset_cc_all_test_2_prepared.csv')\n",
        "print(cc_prepared)"
      ],
      "metadata": {
        "colab": {
          "base_uri": "https://localhost:8080/"
        },
        "id": "clxsn-7q9iZX",
        "outputId": "ff20f846-5ce7-4a5f-926f-1a2f72f216b5"
      },
      "execution_count": null,
      "outputs": [
        {
          "output_type": "stream",
          "name": "stdout",
          "text": [
            "            Date               Date_parsed  Date_parsed_year  \\\n",
            "0      26-Oct-22  2022-10-26T00:00:00.000Z              2022   \n",
            "1      25-Oct-22  2022-10-25T00:00:00.000Z              2022   \n",
            "2      24-Oct-22  2022-10-24T00:00:00.000Z              2022   \n",
            "3      21-Oct-22  2022-10-21T00:00:00.000Z              2022   \n",
            "4      20-Oct-22  2022-10-20T00:00:00.000Z              2022   \n",
            "...          ...                       ...               ...   \n",
            "15306   8-Jan-62  1962-01-08T00:00:00.000Z              1962   \n",
            "15307   5-Jan-62  1962-01-05T00:00:00.000Z              1962   \n",
            "15308   4-Jan-62  1962-01-04T00:00:00.000Z              1962   \n",
            "15309   3-Jan-62  1962-01-03T00:00:00.000Z              1962   \n",
            "15310   2-Jan-62  1962-01-02T00:00:00.000Z              1962   \n",
            "\n",
            "       Date_parsed_month  Date_parsed_day       Open       High        Low  \\\n",
            "0                     10               26  59.009998  59.779999  58.860001   \n",
            "1                     10               25  59.040001  59.110001  57.750000   \n",
            "2                     10               24  56.639999  57.730000  56.570000   \n",
            "3                     10               21  55.000000  56.110001  54.990002   \n",
            "4                     10               20  55.770000  55.919998  54.959999   \n",
            "...                  ...              ...        ...        ...        ...   \n",
            "15306                  1                8   0.047787   0.047787   0.046735   \n",
            "15307                  1                5   0.049273   0.049892   0.048035   \n",
            "15308                  1                4   0.049026   0.049645   0.049026   \n",
            "15309                  1                3   0.049273   0.049273   0.048159   \n",
            "15310                  1                2   0.050016   0.051378   0.050016   \n",
            "\n",
            "           Close    Volume  Dividends  Stock Splits  \n",
            "0      59.389999  15831400        0.0             0  \n",
            "1      58.950001  28829900        0.0             0  \n",
            "2      57.570000  17416700        0.0             0  \n",
            "3      55.959999  15028000        0.0             0  \n",
            "4      55.080002  16905100        0.0             0  \n",
            "...          ...       ...        ...           ...  \n",
            "15306   0.047664   2035200        0.0             0  \n",
            "15307   0.048159   1420800        0.0             0  \n",
            "15308   0.049273    844800        0.0             0  \n",
            "15309   0.048902   1574400        0.0             0  \n",
            "15310   0.050016    806400        0.0             0  \n",
            "\n",
            "[15311 rows x 12 columns]\n"
          ]
        }
      ]
    },
    {
      "cell_type": "markdown",
      "source": [
        "# Pre-processing"
      ],
      "metadata": {
        "id": "Wj7vW8opkiaM"
      }
    },
    {
      "cell_type": "markdown",
      "source": [
        "Code to fill out a new pandas dataframe with the dates that are in a dataframe and add the missing dates."
      ],
      "metadata": {
        "id": "1Qi-IWtzTlf-"
      }
    },
    {
      "cell_type": "code",
      "source": [
        "import pandas as pd\n",
        "\n",
        "# DataFrame\n",
        "df = cc_prepared\n",
        "\n",
        "# Convert 'date' column to datetime format and remove timezone information\n",
        "df['Date_parsed'] = pd.to_datetime(df['Date_parsed']).dt.tz_localize(None)\n",
        "\n",
        "# Create a sequence of dates spanning the minimum and maximum dates in the DataFrame\n",
        "dates = pd.date_range(start='1962-01-02', end='2022-10-26', freq='D')\n",
        "\n",
        "# Create a new DataFrame with the dates as the index\n",
        "new_df = pd.DataFrame(index=dates)\n",
        "\n",
        "# Merge the existing DataFrame with the new DataFrame to add missing dates\n",
        "new_df = pd.concat([new_df, df.set_index('Date_parsed')], axis=1, join='outer')\n",
        "\n",
        "# Set the index to the dates\n",
        "new_df.index.name = 'Dates'\n",
        "new_df = new_df.reset_index().set_index('Dates')\n",
        "\n",
        "print(new_df)"
      ],
      "metadata": {
        "colab": {
          "base_uri": "https://localhost:8080/"
        },
        "id": "NJCUnOch-G-X",
        "outputId": "c4b92449-574d-4851-94a5-1eef8bd300b9"
      },
      "execution_count": null,
      "outputs": [
        {
          "output_type": "stream",
          "name": "stdout",
          "text": [
            "                 Date  Date_parsed_year  Date_parsed_month  Date_parsed_day  \\\n",
            "Dates                                                                         \n",
            "1962-01-02   2-Jan-62            1962.0                1.0              2.0   \n",
            "1962-01-03   3-Jan-62            1962.0                1.0              3.0   \n",
            "1962-01-04   4-Jan-62            1962.0                1.0              4.0   \n",
            "1962-01-05   5-Jan-62            1962.0                1.0              5.0   \n",
            "1962-01-06        NaN               NaN                NaN              NaN   \n",
            "...               ...               ...                ...              ...   \n",
            "2022-10-22        NaN               NaN                NaN              NaN   \n",
            "2022-10-23        NaN               NaN                NaN              NaN   \n",
            "2022-10-24  24-Oct-22            2022.0               10.0             24.0   \n",
            "2022-10-25  25-Oct-22            2022.0               10.0             25.0   \n",
            "2022-10-26  26-Oct-22            2022.0               10.0             26.0   \n",
            "\n",
            "                 Open       High        Low      Close      Volume  Dividends  \\\n",
            "Dates                                                                           \n",
            "1962-01-02   0.050016   0.051378   0.050016   0.050016    806400.0        0.0   \n",
            "1962-01-03   0.049273   0.049273   0.048159   0.048902   1574400.0        0.0   \n",
            "1962-01-04   0.049026   0.049645   0.049026   0.049273    844800.0        0.0   \n",
            "1962-01-05   0.049273   0.049892   0.048035   0.048159   1420800.0        0.0   \n",
            "1962-01-06        NaN        NaN        NaN        NaN         NaN        NaN   \n",
            "...               ...        ...        ...        ...         ...        ...   \n",
            "2022-10-22        NaN        NaN        NaN        NaN         NaN        NaN   \n",
            "2022-10-23        NaN        NaN        NaN        NaN         NaN        NaN   \n",
            "2022-10-24  56.639999  57.730000  56.570000  57.570000  17416700.0        0.0   \n",
            "2022-10-25  59.040001  59.110001  57.750000  58.950001  28829900.0        0.0   \n",
            "2022-10-26  59.009998  59.779999  58.860001  59.389999  15831400.0        0.0   \n",
            "\n",
            "            Stock Splits  \n",
            "Dates                     \n",
            "1962-01-02           0.0  \n",
            "1962-01-03           0.0  \n",
            "1962-01-04           0.0  \n",
            "1962-01-05           0.0  \n",
            "1962-01-06           NaN  \n",
            "...                  ...  \n",
            "2022-10-22           NaN  \n",
            "2022-10-23           NaN  \n",
            "2022-10-24           0.0  \n",
            "2022-10-25           0.0  \n",
            "2022-10-26           0.0  \n",
            "\n",
            "[22213 rows x 11 columns]\n"
          ]
        }
      ]
    },
    {
      "cell_type": "markdown",
      "source": [
        "Code to fill a NaN row with the value of the previous day of its respective column."
      ],
      "metadata": {
        "id": "jtBUrgL7rrFf"
      }
    },
    {
      "cell_type": "code",
      "source": [
        "import pandas as pd\n",
        "\n",
        "# create example dataframe with NaN values\n",
        "df = new_df\n",
        "\n",
        "# fill NaN values with previous day's value in the same column\n",
        "df = df.fillna(method='ffill')\n",
        "\n",
        "print(df)"
      ],
      "metadata": {
        "colab": {
          "base_uri": "https://localhost:8080/"
        },
        "id": "3EYgzt7UrrSh",
        "outputId": "82a8f14b-3feb-462a-b674-22e95c5d5242"
      },
      "execution_count": null,
      "outputs": [
        {
          "output_type": "stream",
          "name": "stdout",
          "text": [
            "                 Date  Date_parsed_year  Date_parsed_month  Date_parsed_day  \\\n",
            "Dates                                                                         \n",
            "1962-01-02   2-Jan-62            1962.0                1.0              2.0   \n",
            "1962-01-03   3-Jan-62            1962.0                1.0              3.0   \n",
            "1962-01-04   4-Jan-62            1962.0                1.0              4.0   \n",
            "1962-01-05   5-Jan-62            1962.0                1.0              5.0   \n",
            "1962-01-06   5-Jan-62            1962.0                1.0              5.0   \n",
            "...               ...               ...                ...              ...   \n",
            "2022-10-22  21-Oct-22            2022.0               10.0             21.0   \n",
            "2022-10-23  21-Oct-22            2022.0               10.0             21.0   \n",
            "2022-10-24  24-Oct-22            2022.0               10.0             24.0   \n",
            "2022-10-25  25-Oct-22            2022.0               10.0             25.0   \n",
            "2022-10-26  26-Oct-22            2022.0               10.0             26.0   \n",
            "\n",
            "                 Open       High        Low      Close      Volume  Dividends  \\\n",
            "Dates                                                                           \n",
            "1962-01-02   0.050016   0.051378   0.050016   0.050016    806400.0        0.0   \n",
            "1962-01-03   0.049273   0.049273   0.048159   0.048902   1574400.0        0.0   \n",
            "1962-01-04   0.049026   0.049645   0.049026   0.049273    844800.0        0.0   \n",
            "1962-01-05   0.049273   0.049892   0.048035   0.048159   1420800.0        0.0   \n",
            "1962-01-06   0.049273   0.049892   0.048035   0.048159   1420800.0        0.0   \n",
            "...               ...        ...        ...        ...         ...        ...   \n",
            "2022-10-22  55.000000  56.110001  54.990002  55.959999  15028000.0        0.0   \n",
            "2022-10-23  55.000000  56.110001  54.990002  55.959999  15028000.0        0.0   \n",
            "2022-10-24  56.639999  57.730000  56.570000  57.570000  17416700.0        0.0   \n",
            "2022-10-25  59.040001  59.110001  57.750000  58.950001  28829900.0        0.0   \n",
            "2022-10-26  59.009998  59.779999  58.860001  59.389999  15831400.0        0.0   \n",
            "\n",
            "            Stock Splits  \n",
            "Dates                     \n",
            "1962-01-02           0.0  \n",
            "1962-01-03           0.0  \n",
            "1962-01-04           0.0  \n",
            "1962-01-05           0.0  \n",
            "1962-01-06           0.0  \n",
            "...                  ...  \n",
            "2022-10-22           0.0  \n",
            "2022-10-23           0.0  \n",
            "2022-10-24           0.0  \n",
            "2022-10-25           0.0  \n",
            "2022-10-26           0.0  \n",
            "\n",
            "[22213 rows x 11 columns]\n"
          ]
        }
      ]
    },
    {
      "cell_type": "markdown",
      "source": [
        "# Export"
      ],
      "metadata": {
        "id": "TeufIv84kltp"
      }
    },
    {
      "cell_type": "markdown",
      "source": [
        "Export pandas dataframe as an Excel .csv file from Google Colab.\n"
      ],
      "metadata": {
        "id": "HkoyAPgeWqQ-"
      }
    },
    {
      "cell_type": "code",
      "source": [
        "from google.colab import files\n",
        "\n",
        "# Example DataFrame\n",
        "df = df\n",
        "\n",
        "# Save DataFrame as CSV file\n",
        "df.to_csv('example.csv')\n",
        "\n",
        "# Download CSV file\n",
        "files.download('example.csv')"
      ],
      "metadata": {
        "colab": {
          "base_uri": "https://localhost:8080/",
          "height": 17
        },
        "id": "onFnJEs1Y4gf",
        "outputId": "23766401-46eb-4a3b-f185-ca774c3a6e0e"
      },
      "execution_count": null,
      "outputs": [
        {
          "output_type": "display_data",
          "data": {
            "text/plain": [
              "<IPython.core.display.Javascript object>"
            ],
            "application/javascript": [
              "\n",
              "    async function download(id, filename, size) {\n",
              "      if (!google.colab.kernel.accessAllowed) {\n",
              "        return;\n",
              "      }\n",
              "      const div = document.createElement('div');\n",
              "      const label = document.createElement('label');\n",
              "      label.textContent = `Downloading \"${filename}\": `;\n",
              "      div.appendChild(label);\n",
              "      const progress = document.createElement('progress');\n",
              "      progress.max = size;\n",
              "      div.appendChild(progress);\n",
              "      document.body.appendChild(div);\n",
              "\n",
              "      const buffers = [];\n",
              "      let downloaded = 0;\n",
              "\n",
              "      const channel = await google.colab.kernel.comms.open(id);\n",
              "      // Send a message to notify the kernel that we're ready.\n",
              "      channel.send({})\n",
              "\n",
              "      for await (const message of channel.messages) {\n",
              "        // Send a message to notify the kernel that we're ready.\n",
              "        channel.send({})\n",
              "        if (message.buffers) {\n",
              "          for (const buffer of message.buffers) {\n",
              "            buffers.push(buffer);\n",
              "            downloaded += buffer.byteLength;\n",
              "            progress.value = downloaded;\n",
              "          }\n",
              "        }\n",
              "      }\n",
              "      const blob = new Blob(buffers, {type: 'application/binary'});\n",
              "      const a = document.createElement('a');\n",
              "      a.href = window.URL.createObjectURL(blob);\n",
              "      a.download = filename;\n",
              "      div.appendChild(a);\n",
              "      a.click();\n",
              "      div.remove();\n",
              "    }\n",
              "  "
            ]
          },
          "metadata": {}
        },
        {
          "output_type": "display_data",
          "data": {
            "text/plain": [
              "<IPython.core.display.Javascript object>"
            ],
            "application/javascript": [
              "download(\"download_e9194797-108e-4231-b8cd-5bc357fa3aad\", \"example.csv\", 2278086)"
            ]
          },
          "metadata": {}
        }
      ]
    }
  ]
}